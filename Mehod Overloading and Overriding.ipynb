{
 "cells": [
  {
   "cell_type": "code",
   "execution_count": 2,
   "id": "a7baeb52-18e0-423f-a197-998fb9bc52f7",
   "metadata": {},
   "outputs": [
    {
     "name": "stdout",
     "output_type": "stream",
     "text": [
      "9\n",
      "19\n"
     ]
    }
   ],
   "source": [
    "# Method Overloading (Same method names but diffrent parameters)\n",
    "class Sum:\n",
    "    def add(self,a,b):\n",
    "        print(a+b)\n",
    "    def add(self,a,b,c=0):\n",
    "        print(a+b+c)\n",
    "s=Sum()\n",
    "s.add(4,5)\n",
    "s.add(4,7,8)"
   ]
  },
  {
   "cell_type": "code",
   "execution_count": 3,
   "id": "6514733d-3b2f-4354-bf90-cbe91b247994",
   "metadata": {},
   "outputs": [
    {
     "name": "stdout",
     "output_type": "stream",
     "text": [
      "Child\n"
     ]
    }
   ],
   "source": [
    "# Method Overriding (child class method overrides the parent method)\n",
    "class Parent:\n",
    "    def parent(self):\n",
    "        print(\"Parent\")\n",
    "class Child(Parent):\n",
    "    def parent(self):\n",
    "        print(\"Child\")\n",
    "c=Child()\n",
    "c.parent()"
   ]
  },
  {
   "cell_type": "code",
   "execution_count": null,
   "id": "2ab1a59e-e62f-417d-b1ae-a2af9d6c422b",
   "metadata": {},
   "outputs": [],
   "source": []
  }
 ],
 "metadata": {
  "kernelspec": {
   "display_name": "Python 3 (ipykernel)",
   "language": "python",
   "name": "python3"
  },
  "language_info": {
   "codemirror_mode": {
    "name": "ipython",
    "version": 3
   },
   "file_extension": ".py",
   "mimetype": "text/x-python",
   "name": "python",
   "nbconvert_exporter": "python",
   "pygments_lexer": "ipython3",
   "version": "3.12.7"
  }
 },
 "nbformat": 4,
 "nbformat_minor": 5
}

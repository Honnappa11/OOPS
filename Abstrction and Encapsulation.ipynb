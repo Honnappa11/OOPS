{
 "cells": [
  {
   "cell_type": "code",
   "execution_count": 13,
   "id": "e2f2d387-9bc8-494c-8b22-1c463aa42908",
   "metadata": {},
   "outputs": [
    {
     "name": "stdout",
     "output_type": "stream",
     "text": [
      "Select the operations 1.Insert data 2.Retrive the Data 3.exit\n"
     ]
    },
    {
     "name": "stdin",
     "output_type": "stream",
     "text": [
      " 1\n",
      "enter the name: mani\n",
      "enter the department: ise\n",
      "enter the marks: 99\n"
     ]
    },
    {
     "name": "stdout",
     "output_type": "stream",
     "text": [
      "Select the operations 1.Insert data 2.Retrive the Data 3.exit\n"
     ]
    },
    {
     "name": "stdin",
     "output_type": "stream",
     "text": [
      " 1\n",
      "enter the name: rani\n",
      "enter the department: cse\n",
      "enter the marks: 89\n"
     ]
    },
    {
     "name": "stdout",
     "output_type": "stream",
     "text": [
      "Select the operations 1.Insert data 2.Retrive the Data 3.exit\n"
     ]
    },
    {
     "name": "stdin",
     "output_type": "stream",
     "text": [
      " 2\n",
      "enter the name: rani\n"
     ]
    },
    {
     "name": "stdout",
     "output_type": "stream",
     "text": [
      "['cse', 89]\n",
      "Select the operations 1.Insert data 2.Retrive the Data 3.exit\n"
     ]
    },
    {
     "name": "stdin",
     "output_type": "stream",
     "text": [
      " 3\n"
     ]
    }
   ],
   "source": [
    "class Student:\n",
    "    def __init__(self):\n",
    "        self.__data={}\n",
    "    def add_data(self):\n",
    "        name=input(\"enter the name:\")\n",
    "        dep=input(\"enter the department:\")\n",
    "        marks=int(input(\"enter the marks:\"))\n",
    "        self.__data[name]=[dep,marks]\n",
    "    def student_name(self):\n",
    "        \n",
    "        name=input(\"enter the name:\")\n",
    "                 \n",
    "        if name in self.__data:\n",
    "                 \n",
    "            print(self.__data[name])\n",
    "        else:\n",
    "            print(\"Student is not present\")     \n",
    "s=Student()\n",
    "while True:\n",
    "    print(\"Select the operations 1.Insert data 2.Retrive the Data 3.exit\")\n",
    "    c=int(input())\n",
    "    if c==1:\n",
    "        s.add_data()\n",
    "    elif c==2:\n",
    "        s.student_name()\n",
    "    elif c==3:\n",
    "        break\n",
    "    else:\n",
    "        print(\"select the correct opertion\")\n",
    "        \n",
    "    "
   ]
  },
  {
   "cell_type": "code",
   "execution_count": null,
   "id": "8ae390f1-d691-4b27-a89f-bf6aa175e779",
   "metadata": {},
   "outputs": [],
   "source": []
  }
 ],
 "metadata": {
  "kernelspec": {
   "display_name": "Python 3 (ipykernel)",
   "language": "python",
   "name": "python3"
  },
  "language_info": {
   "codemirror_mode": {
    "name": "ipython",
    "version": 3
   },
   "file_extension": ".py",
   "mimetype": "text/x-python",
   "name": "python",
   "nbconvert_exporter": "python",
   "pygments_lexer": "ipython3",
   "version": "3.12.7"
  }
 },
 "nbformat": 4,
 "nbformat_minor": 5
}

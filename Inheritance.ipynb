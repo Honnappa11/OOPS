{
 "cells": [
  {
   "cell_type": "code",
   "execution_count": 6,
   "id": "7eff16d8-14b6-4543-accd-97d072095015",
   "metadata": {},
   "outputs": [
    {
     "name": "stdout",
     "output_type": "stream",
     "text": [
      "Cat is very cute Animal\n",
      "Animals are good friends\n"
     ]
    }
   ],
   "source": [
    "#Single Inheritance\n",
    "class Animal:\n",
    "    def group(self):\n",
    "        print(\"Animals are good friends\")\n",
    "class Cat(Animal):\n",
    "    def cat(self):\n",
    "        print(\"Cat is very cute Animal\")\n",
    "c=Cat()\n",
    "c.cat()\n",
    "c.group()"
   ]
  },
  {
   "cell_type": "code",
   "execution_count": 7,
   "id": "4b11eea5-b01d-4543-8ec1-66a8c6b6399f",
   "metadata": {},
   "outputs": [
    {
     "name": "stdout",
     "output_type": "stream",
     "text": [
      "Multiplication of two values : 20\n",
      "Substraction of two values : -1\n",
      "Sum of two values : 9\n"
     ]
    }
   ],
   "source": [
    "# Multi level Inheritance\n",
    "class Math:\n",
    "    def add(self,a,b):\n",
    "        print(\"Sum of two values :\",a+b)\n",
    "class Substraction(Math):\n",
    "    def sub(self,a,b):\n",
    "        print(\"Substraction of two values :\",a-b)\n",
    "class Multiplication(Substraction):\n",
    "    def mul(self,a,b):\n",
    "        print(\"Multiplication of two values :\",a*b)\n",
    "m=Multiplication()\n",
    "m.mul(4,5)\n",
    "m.sub(4,5)\n",
    "m.add(4,5)"
   ]
  },
  {
   "cell_type": "code",
   "execution_count": 18,
   "id": "effe89d0-3018-4ca7-a854-1a5103991068",
   "metadata": {},
   "outputs": [
    {
     "name": "stdout",
     "output_type": "stream",
     "text": [
      "Father\n",
      "Mother\n"
     ]
    }
   ],
   "source": [
    "# Multiple Inheritance\n",
    "class Father:\n",
    "    def father(self):\n",
    "        print(\"Father\")\n",
    "class Mother:\n",
    "    def mother(self):\n",
    "        print(\"Mother\")\n",
    "class Child(Father,Mother):\n",
    "    pass\n",
    "c=Child()\n",
    "c.father()\n",
    "c.mother()\n",
    "\n",
    "\n"
   ]
  },
  {
   "cell_type": "code",
   "execution_count": 19,
   "id": "0802fff9-cb40-491c-9aee-d18181fabee1",
   "metadata": {},
   "outputs": [
    {
     "name": "stdout",
     "output_type": "stream",
     "text": [
      "Addition of two values : 5\n",
      "Substraction of two values : 1\n",
      "Multiplication of two values : 72\n"
     ]
    }
   ],
   "source": [
    "# Hierarchical Inheritance\n",
    "class Math:\n",
    "    def __init__(self,a,b):\n",
    "        self.a=a\n",
    "        self.b=b\n",
    "class Addition(Math):\n",
    "    def addition(self):\n",
    "        print(\"Addition of two values :\",self.a+self.b)\n",
    "class Sub(Math):\n",
    "    def sub(self):\n",
    "        print(\"Substraction of two values :\",self.a-self.b)\n",
    "class Mul(Math):\n",
    "    def mul(self):\n",
    "        print(\"Multiplication of two values :\",self.a*self.b)\n",
    "a=Addition(3,2)\n",
    "a.addition()\n",
    "s=Sub(6,5)\n",
    "s.sub()\n",
    "m=Mul(9,8)\n",
    "m.mul()"
   ]
  },
  {
   "cell_type": "code",
   "execution_count": null,
   "id": "144c1577-eb91-44eb-88b9-6cb31fc67f1a",
   "metadata": {},
   "outputs": [],
   "source": []
  }
 ],
 "metadata": {
  "kernelspec": {
   "display_name": "Python 3 (ipykernel)",
   "language": "python",
   "name": "python3"
  },
  "language_info": {
   "codemirror_mode": {
    "name": "ipython",
    "version": 3
   },
   "file_extension": ".py",
   "mimetype": "text/x-python",
   "name": "python",
   "nbconvert_exporter": "python",
   "pygments_lexer": "ipython3",
   "version": "3.12.7"
  }
 },
 "nbformat": 4,
 "nbformat_minor": 5
}
